{
 "cells": [
  {
   "cell_type": "code",
   "execution_count": 7,
   "metadata": {},
   "outputs": [],
   "source": [
    "from PIL import Image\n",
    "import os, glob\n",
    "import numpy as np\n",
    "from sklearn import model_selection\n",
    "\n",
    "classes = [\"monkey\", \"boar\", \"crow\"]\n",
    "num_classes = len(classes)\n",
    "image_size = 50\n",
    "\n",
    "# 画像の読み込み\n",
    "X = []\n",
    "Y = []\n",
    "for index, classlabel in enumerate(classes):\n",
    "    photos_dir = \"./\" + classlabel\n",
    "    files = glob.glob(photos_dir + \"/*.jpg\")\n",
    "    for i, file in enumerate(files):\n",
    "        if i > 184: break\n",
    "        image = Image.open(file)\n",
    "        image = image.convert(\"RGB\")\n",
    "        image = image.resize((image_size, image_size))\n",
    "        data = np.asarray(image)\n",
    "        X.append(data)\n",
    "        Y.append(index)\n",
    "\n",
    "X = np.array(X)\n",
    "Y = np.array(Y)\n"
   ]
  },
  {
   "cell_type": "code",
   "execution_count": 14,
   "metadata": {},
   "outputs": [
    {
     "data": {
      "text/plain": [
       "554"
      ]
     },
     "execution_count": 14,
     "metadata": {},
     "output_type": "execute_result"
    }
   ],
   "source": [
    "len(Y)"
   ]
  },
  {
   "cell_type": "code",
   "execution_count": 16,
   "metadata": {},
   "outputs": [
    {
     "data": {
      "text/plain": [
       "array([[[ 20,  39,  10],\n",
       "        [ 18,  36,  10],\n",
       "        [ 49,  78,  31],\n",
       "        ...,\n",
       "        [  7,  13,   5],\n",
       "        [ 60,  77,  33],\n",
       "        [ 46,  67,  27]],\n",
       "\n",
       "       [[ 37,  62,  19],\n",
       "        [  9,  17,   5],\n",
       "        [ 27,  40,  20],\n",
       "        ...,\n",
       "        [ 17,  22,  13],\n",
       "        [ 66,  89,  45],\n",
       "        [ 64,  85,  38]],\n",
       "\n",
       "       [[ 30,  49,  23],\n",
       "        [ 28,  53,  18],\n",
       "        [ 27,  53,  18],\n",
       "        ...,\n",
       "        [ 34,  46,  24],\n",
       "        [ 51,  68,  36],\n",
       "        [ 52,  54,  35]],\n",
       "\n",
       "       ...,\n",
       "\n",
       "       [[219, 204, 211],\n",
       "        [223, 208, 216],\n",
       "        [221, 205, 211],\n",
       "        ...,\n",
       "        [250, 244, 248],\n",
       "        [250, 242, 246],\n",
       "        [249, 239, 244]],\n",
       "\n",
       "       [[220, 204, 209],\n",
       "        [223, 208, 213],\n",
       "        [217, 201, 206],\n",
       "        ...,\n",
       "        [250, 239, 243],\n",
       "        [250, 240, 245],\n",
       "        [250, 239, 244]],\n",
       "\n",
       "       [[244, 232, 234],\n",
       "        [245, 234, 236],\n",
       "        [243, 231, 233],\n",
       "        ...,\n",
       "        [245, 235, 241],\n",
       "        [248, 237, 242],\n",
       "        [247, 236, 244]]], dtype=uint8)"
      ]
     },
     "execution_count": 16,
     "metadata": {},
     "output_type": "execute_result"
    }
   ],
   "source": [
    "X[0]"
   ]
  },
  {
   "cell_type": "code",
   "execution_count": 17,
   "metadata": {},
   "outputs": [],
   "source": [
    "from PIL import Image\n",
    "import os, glob\n",
    "import numpy as np\n",
    "from sklearn import model_selection\n",
    "\n",
    "classes = [\"monkey\", \"boar\", \"crow\"]\n",
    "num_classes = len(classes)\n",
    "image_size = 50\n",
    "\n",
    "# 画像の読み込み\n",
    "X = []\n",
    "Y = []\n",
    "for index, classlabel in enumerate(classes):\n",
    "    photos_dir = \"./\" + classlabel\n",
    "    files = glob.glob(photos_dir + \"/*.jpg\")\n",
    "    for i, file in enumerate(files):\n",
    "        if i > 184: break\n",
    "        image = Image.open(file)\n",
    "        image = image.convert(\"RGB\")\n",
    "        image = image.resize((image_size, image_size))\n",
    "        data = np.asarray(image)\n",
    "        X.append(data)\n",
    "        Y.append(index)\n",
    "\n",
    "X = np.array(X)\n",
    "Y = np.array(Y)\n",
    "\n",
    "X_train, X_test, Y_train, Y_test = model_selection.train_test_split(X, Y)\n",
    "xy = (X_train, X_test, Y_train, Y_test)\n",
    "np.save(\"./animal.npy\", xy)\n"
   ]
  },
  {
   "cell_type": "code",
   "execution_count": null,
   "metadata": {},
   "outputs": [],
   "source": []
  }
 ],
 "metadata": {
  "kernelspec": {
   "display_name": "Python 3",
   "language": "python",
   "name": "python3"
  },
  "language_info": {
   "codemirror_mode": {
    "name": "ipython",
    "version": 3
   },
   "file_extension": ".py",
   "mimetype": "text/x-python",
   "name": "python",
   "nbconvert_exporter": "python",
   "pygments_lexer": "ipython3",
   "version": "3.7.7"
  }
 },
 "nbformat": 4,
 "nbformat_minor": 4
}
